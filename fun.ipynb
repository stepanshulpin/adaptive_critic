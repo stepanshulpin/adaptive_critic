{
 "cells": [
  {
   "cell_type": "markdown",
   "id": "b67312a9",
   "metadata": {
    "cellId": "krgspvhmnvktju3ae8uyc",
    "execution_id": "5b0474b9-8ea9-46c3-b2df-eaca113a92f4"
   },
   "source": [
    "$Z(x,y) = \\sin{x} \\cos{y}$"
   ]
  },
  {
   "cell_type": "code",
   "execution_count": 50,
   "id": "68a25709",
   "metadata": {
    "cellId": "fpzwpkfw5v5y3ot8u2lf"
   },
   "outputs": [
    {
     "data": {
      "image/png": "[encoded data removed]",
      "text/plain": [
       "<Figure size 144x144 with 1 Axes>"
      ]
     },
     "metadata": {
      "needs_background": "light"
     },
     "output_type": "display_data"
    }
   ],
   "source": [
    "import matplotlib.pyplot as plt\n",
    "import numpy as np\n",
    "import pandas as pd\n",
    "from sklearn.neural_network import MLPRegressor\n",
    "import math\n",
    "\n",
    "from matplotlib import cm\n",
    "\n",
    "plt.style.use('_mpl-gallery')\n",
    "\n",
    "# Make data\n",
    "X = np.arange(-np.pi, np.pi, 0.1)\n",
    "Y = np.arange(-np.pi, np.pi, 0.1)\n",
    "X, Y = np.meshgrid(X, Y)\n",
    "Z = np.sin(X)*np.cos(Y)\n",
    "\n",
    "# Plot the surface\n",
    "fig, ax = plt.subplots(subplot_kw={\"projection\": \"3d\"})\n",
    "ax.plot_surface(X, Y, Z, vmin=Z.min() * 2, cmap=cm.Blues)\n",
    "\n",
    "plt.show()"
   ]
  },
  {
   "cell_type": "code",
   "execution_count": 19,
   "id": "4524a079",
   "metadata": {
    "cellId": "8s5gzziohjoehcqlf7pp77"
   },
   "outputs": [
    {
     "data": {
      "text/html": [
       "<div>\n",
       "<style scoped>\n",
       "    .dataframe tbody tr th:only-of-type {\n",
       "        vertical-align: middle;\n",
       "    }\n",
       "\n",
       "    .dataframe tbody tr th {\n",
       "        vertical-align: top;\n",
       "    }\n",
       "\n",
       "    .dataframe thead th {\n",
       "        text-align: right;\n",
       "    }\n",
       "</style>\n",
       "<table border=\"1\" class=\"dataframe\">\n",
       "  <thead>\n",
       "    <tr style=\"text-align: right;\">\n",
       "      <th></th>\n",
       "      <th>x</th>\n",
       "      <th>y</th>\n",
       "      <th>z</th>\n",
       "    </tr>\n",
       "  </thead>\n",
       "  <tbody>\n",
       "    <tr>\n",
       "      <th>0</th>\n",
       "      <td>-3.141593</td>\n",
       "      <td>-3.141593</td>\n",
       "      <td>1.224647e-16</td>\n",
       "    </tr>\n",
       "    <tr>\n",
       "      <th>1</th>\n",
       "      <td>-3.041593</td>\n",
       "      <td>-3.141593</td>\n",
       "      <td>9.983342e-02</td>\n",
       "    </tr>\n",
       "    <tr>\n",
       "      <th>2</th>\n",
       "      <td>-2.941593</td>\n",
       "      <td>-3.141593</td>\n",
       "      <td>1.986693e-01</td>\n",
       "    </tr>\n",
       "    <tr>\n",
       "      <th>3</th>\n",
       "      <td>-2.841593</td>\n",
       "      <td>-3.141593</td>\n",
       "      <td>2.955202e-01</td>\n",
       "    </tr>\n",
       "    <tr>\n",
       "      <th>4</th>\n",
       "      <td>-2.741593</td>\n",
       "      <td>-3.141593</td>\n",
       "      <td>3.894183e-01</td>\n",
       "    </tr>\n",
       "    <tr>\n",
       "      <th>...</th>\n",
       "      <td>...</td>\n",
       "      <td>...</td>\n",
       "      <td>...</td>\n",
       "    </tr>\n",
       "    <tr>\n",
       "      <th>3964</th>\n",
       "      <td>2.658407</td>\n",
       "      <td>3.058407</td>\n",
       "      <td>-4.629956e-01</td>\n",
       "    </tr>\n",
       "    <tr>\n",
       "      <th>3965</th>\n",
       "      <td>2.758407</td>\n",
       "      <td>3.058407</td>\n",
       "      <td>-3.725838e-01</td>\n",
       "    </tr>\n",
       "    <tr>\n",
       "      <th>3966</th>\n",
       "      <td>2.858407</td>\n",
       "      <td>3.058407</td>\n",
       "      <td>-2.784493e-01</td>\n",
       "    </tr>\n",
       "    <tr>\n",
       "      <th>3967</th>\n",
       "      <td>2.958407</td>\n",
       "      <td>3.058407</td>\n",
       "      <td>-1.815326e-01</td>\n",
       "    </tr>\n",
       "    <tr>\n",
       "      <th>3968</th>\n",
       "      <td>3.058407</td>\n",
       "      <td>3.058407</td>\n",
       "      <td>-8.280209e-02</td>\n",
       "    </tr>\n",
       "  </tbody>\n",
       "</table>\n",
       "<p>3969 rows × 3 columns</p>\n",
       "</div>"
      ],
      "text/plain": [
       "             x         y             z\n",
       "0    -3.141593 -3.141593  1.224647e-16\n",
       "1    -3.041593 -3.141593  9.983342e-02\n",
       "2    -2.941593 -3.141593  1.986693e-01\n",
       "3    -2.841593 -3.141593  2.955202e-01\n",
       "4    -2.741593 -3.141593  3.894183e-01\n",
       "...        ...       ...           ...\n",
       "3964  2.658407  3.058407 -4.629956e-01\n",
       "3965  2.758407  3.058407 -3.725838e-01\n",
       "3966  2.858407  3.058407 -2.784493e-01\n",
       "3967  2.958407  3.058407 -1.815326e-01\n",
       "3968  3.058407  3.058407 -8.280209e-02\n",
       "\n",
       "[3969 rows x 3 columns]"
      ]
     },
     "execution_count": 19,
     "metadata": {},
     "output_type": "execute_result"
    }
   ],
   "source": [
    "NT = np.product(X.shape)\n",
    "\n",
    "data = {\n",
    "    \"x\": np.reshape(X,NT),\n",
    "    \"y\": np.reshape(Y,NT),\n",
    "    \"z\": np.reshape(Z,NT)\n",
    "}\n",
    "df = pd.DataFrame(data=data)\n",
    "\n",
    "df"
   ]
  },
  {
   "cell_type": "code",
   "execution_count": 22,
   "id": "ffbc5f6c",
   "metadata": {
    "cellId": "a5tz8v2of5ow8et39zds9a"
   },
   "outputs": [
    {
     "name": "stdout",
     "output_type": "stream",
     "text": [
      "2778 1191\n"
     ]
    }
   ],
   "source": [
    "X = df[['x','y']]\n",
    "Y = df['z']\n",
    "\n",
    "from sklearn.model_selection import train_test_split\n",
    "X_train, X_test, Y_train, Y_test = train_test_split(X, Y, test_size = 0.3, random_state = 42)\n",
    "\n",
    "N_train, _ = X_train.shape \n",
    "N_test,  _ = X_test.shape \n",
    "\n",
    "print(N_train, N_test)"
   ]
  },
  {
   "cell_type": "code",
   "execution_count": 23,
   "id": "afa8593c",
   "metadata": {
    "cellId": "hgowl2pwfpptg7qkgivaa"
   },
   "outputs": [
    {
     "data": {
      "text/plain": [
       "0.9922379296623342"
      ]
     },
     "execution_count": 23,
     "metadata": {},
     "output_type": "execute_result"
    }
   ],
   "source": [
    "#{'activation': 'tanh', 'alpha': 0.05, 'hidden_layer_sizes': (100, 50, 30), 'learning_rate': 'constant', 'max_iter': 100, 'solver': 'adam'}\n",
    "regr = MLPRegressor(\n",
    "    #activation=\"tanh\",\n",
    "    #alpha=0.05,\n",
    "    hidden_layer_sizes=(100, 50)\n",
    "    #learning_rate=\"constant\",\n",
    "    #max_iter=100,\n",
    "    #solver=\"adam\"\n",
    ").fit(X_train, Y_train)\n",
    "regr.predict(X_test)\n",
    "regr.score(X_test, Y_test)"
   ]
  },
  {
   "cell_type": "code",
   "execution_count": 24,
   "id": "4fe4e167",
   "metadata": {
    "cellId": "rim6lqokuxqttfccwd0rc"
   },
   "outputs": [
    {
     "data": {
      "image/png": "[encoded data removed]",
      "text/plain": [
       "<Figure size 144x144 with 1 Axes>"
      ]
     },
     "metadata": {
      "needs_background": "light"
     },
     "output_type": "display_data"
    }
   ],
   "source": [
    "plt.plot(regr.loss_curve_)\n",
    "plt.title(\"Loss Curve\", fontsize=14)\n",
    "plt.xlabel('Iterations')\n",
    "plt.ylabel('Cost')\n",
    "plt.show()"
   ]
  },
  {
   "cell_type": "code",
   "execution_count": 38,
   "id": "3cc808f7",
   "metadata": {
    "cellId": "ylb05m3as3flval6s8npq"
   },
   "outputs": [],
   "source": [
    "def eval(x,y):\n",
    "    return regr.predict([[x, y]])"
   ]
  },
  {
   "cell_type": "code",
   "execution_count": 41,
   "id": "35722903",
   "metadata": {
    "cellId": "0oscrgl01tono516pvwl"
   },
   "outputs": [],
   "source": [
    "veval = np.vectorize(eval)"
   ]
  },
  {
   "cell_type": "code",
   "execution_count": 43,
   "id": "fabd1b91",
   "metadata": {
    "cellId": "8lye9ppiycs2gb272rrwh4"
   },
   "outputs": [],
   "source": [
    "import warnings\n",
    "warnings.filterwarnings(\"ignore\")\n",
    "Z_predict = veval(X,Y)"
   ]
  },
  {
   "cell_type": "markdown",
   "id": "57047b8a",
   "metadata": {
    "cellId": "3vx7ur0rjaq3l21jrqsqwr",
    "execution_id": "af1dbb0d-c2eb-492b-b285-dae35674dbc7"
   },
   "source": [
    "### Строим график предсказанных значений"
   ]
  },
  {
   "cell_type": "code",
   "execution_count": 49,
   "id": "9391f753",
   "metadata": {
    "cellId": "awhsw3bkj7fd5bufeuqvrl"
   },
   "outputs": [
    {
     "data": {
      "image/png": "[encoded data removed]",
      "text/plain": [
       "<Figure size 144x144 with 1 Axes>"
      ]
     },
     "metadata": {
      "needs_background": "light"
     },
     "output_type": "display_data"
    }
   ],
   "source": [
    "# Plot the surface\n",
    "fig, ax = plt.subplots(subplot_kw={\"projection\": \"3d\"})\n",
    "ax.plot_surface(X, Y, Z_predict, vmin=Z_predict.min() * 2, cmap=cm.Blues)\n",
    "\n",
    "plt.show()"
   ]
  },
  {
   "cell_type": "code",
   "execution_count": null,
   "id": "0f549362",
   "metadata": {
    "cellId": "30z6nyo6hegdaljacv15mh"
   },
   "outputs": [],
   "source": []
  }
 ],
 "metadata": {
  "language_info": {
   "codemirror_mode": {
    "name": "ipython",
    "version": 3
   },
   "file_extension": ".py",
   "mimetype": "text/x-python",
   "name": "python",
   "nbconvert_exporter": "python",
   "pygments_lexer": "ipython3",
   "version": "3.7.7"
  },
  "notebookId": "38819ec5-4b67-4134-9669-b9f36671e833",
  "notebookPath": "Untitled.ipynb"
 },
 "nbformat": 4,
 "nbformat_minor": 5
}
